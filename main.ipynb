{
 "cells": [
  {
   "cell_type": "code",
   "execution_count": null,
   "metadata": {},
   "outputs": [],
   "source": [
    "#by linear probing\n",
    "class Dictionary:\n",
    "    def __init__(self,size):\n",
    "        self.size = size\n",
    "        self.slots = [None]*self.size # Here slot represents keys\n",
    "        self.data = [None]*self.size\n",
    "    def hash_function(self,key):\n",
    "        # here hash fn is (i%size)\n",
    "        return abs(hash(key)) % self.size #here \"abs\" will chane any -ve hash vale to +ve\n",
    "    def __put(self,key,value):\n",
    "        # here the catch is if you try to insert an element when the array is full, you will encounter an infinite loop\n",
    "        hash_value = self.hash_function(key)\n",
    "        if self.slots[hash_value]==None:\n",
    "            self.slots[hash_value] = key\n",
    "            self.data[hash_value] = value\n",
    "        else: \n",
    "            if self.slots[hash_value]==key:\n",
    "                self.data[hash_value] = value\n",
    "            else:\n",
    "                new_hash_value = self.rehash(hash_value)\n",
    "\n",
    "                while self.slots[new_hash_value]!= None and self.slots[new_hash_value]!= key:\n",
    "                    new_hash_value = self.rehash(new_hash_value)\n",
    "                if self.slots[new_hash_value] == None:\n",
    "                    self.slots[new_hash_value] = key\n",
    "                    self.data[new_hash_value] = value\n",
    "                else:\n",
    "                    self.data[new_hash_value] = value\n",
    "    def __setitem__(self,key,value):\n",
    "        self.__put(key,value)\n",
    "\n",
    "    def get(self,key):\n",
    "        start_position = self.hash_function(key)\n",
    "        curr_position = start_position\n",
    "        while self.slots[curr_position]!= None:\n",
    "            if self.slots[curr_position] == key:\n",
    "                return self.data[curr_position]\n",
    "            \n",
    "            curr_position = self.rehash(curr_position)\n",
    "            \n",
    "            if curr_position == start_position:\n",
    "                return \"Not found\"\n",
    "        return \"Not found\"\n",
    "            \n",
    "\n",
    "\n",
    "\n",
    "    def rehash(self,old_hash_value):\n",
    "        return (old_hash_value + 1) % self.size\n",
    "            \n"
   ]
  },
  {
   "cell_type": "code",
   "execution_count": 16,
   "metadata": {},
   "outputs": [],
   "source": [
    "d1 = Dictionary(3)"
   ]
  },
  {
   "cell_type": "code",
   "execution_count": 20,
   "metadata": {},
   "outputs": [
    {
     "name": "stdout",
     "output_type": "stream",
     "text": [
      "['python', None, None] -- [45, None, None]\n"
     ]
    }
   ],
   "source": [
    "print(d1.slots ,\"--\", d1.data)"
   ]
  },
  {
   "cell_type": "code",
   "execution_count": 19,
   "metadata": {},
   "outputs": [],
   "source": [
    "d1[\"python\"] = 45"
   ]
  },
  {
   "cell_type": "code",
   "execution_count": null,
   "metadata": {},
   "outputs": [],
   "source": []
  }
 ],
 "metadata": {
  "kernelspec": {
   "display_name": "Python 3",
   "language": "python",
   "name": "python3"
  },
  "language_info": {
   "codemirror_mode": {
    "name": "ipython",
    "version": 3
   },
   "file_extension": ".py",
   "mimetype": "text/x-python",
   "name": "python",
   "nbconvert_exporter": "python",
   "pygments_lexer": "ipython3",
   "version": "3.13.0"
  }
 },
 "nbformat": 4,
 "nbformat_minor": 2
}
